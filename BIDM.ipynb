{
  "nbformat": 4,
  "nbformat_minor": 0,
  "metadata": {
    "colab": {
      "provenance": [],
      "authorship_tag": "ABX9TyOoCrT4HJPPod2+hqX/ZX9m"
    },
    "kernelspec": {
      "name": "python3",
      "display_name": "Python 3"
    },
    "language_info": {
      "name": "python"
    }
  },
  "cells": [
    {
      "cell_type": "code",
      "source": [
        "import pandas as pd\n",
        "import numpy as np\n",
        "\n",
        "df = pd.read_csv('Wuzzuf_Jobs.csv')\n",
        "\n",
        "columns_to_clean = ['Title', 'Company', 'Location', 'Level', 'Type', 'YearsExp', 'Country', 'Skills']\n",
        "\n",
        "for column in columns_to_clean:\n",
        "    df[column] = df[column].str.strip()\n",
        "    df[column] = df[column].replace(r'[^\\x00-\\x7F]+', pd.NA, regex=True)\n",
        "    df[column] = df[column].replace('', pd.NA)\n",
        "\n",
        "df['Level'] = df['Level'].apply(lambda x: np.nan if x in ['Freelance / Project', 'Work From Home'] else x)\n",
        "df['YearsExp'] = df['YearsExp'].replace('null Yrs of Exp', pd.NA)\n",
        "\n",
        "for column in columns_to_clean:\n",
        "    mode_value = df[column].mode()[0]\n",
        "    df.fillna({column: mode_value}, inplace=True)\n",
        "\n",
        "df.drop_duplicates(inplace=True)\n",
        "\n",
        "df.to_csv('cleaned_data.csv', index=False)\n"
      ],
      "metadata": {
        "id": "-wsGwXg-LSDu"
      },
      "execution_count": 4,
      "outputs": []
    }
  ]
}